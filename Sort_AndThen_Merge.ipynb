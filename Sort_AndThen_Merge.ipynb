{
 "cells": [
  {
   "cell_type": "code",
   "execution_count": 13,
   "id": "f83b2209",
   "metadata": {},
   "outputs": [
    {
     "name": "stdout",
     "output_type": "stream",
     "text": [
      "5 2 6 3 7 4 8 1 9\n",
      "[1, 2, 3, 4, 5, 6, 7, 8, 9]\n"
     ]
    }
   ],
   "source": [
    "def sort(arr):\n",
    "    l = len(arr)\n",
    "    if l==0 or l==1:\n",
    "        return\n",
    "    \n",
    "    mid = l//2\n",
    "    a1 = arr[0:mid]\n",
    "    a2 = arr[mid:]\n",
    "    sort(a1)\n",
    "    sort(a2)\n",
    "    merge_sort(a1,a2,arr)\n",
    "    \n",
    "def merge_sort(a1,a2,arr):\n",
    "    i, j ,k = 0,0,0\n",
    "    while i<len(a1) and j<len(a2):\n",
    "        if a1[i]<a2[j]:\n",
    "            arr[k] = a1[i]\n",
    "            i=i+1\n",
    "            k=k+1\n",
    "        else:\n",
    "            arr[k] = a2[j]\n",
    "            j=j+1\n",
    "            k=k+1\n",
    "    while i<len(a1):\n",
    "        arr[k] = a1[i]\n",
    "        i=i+1\n",
    "        k=k+1\n",
    "    while j<len(a2):\n",
    "        arr[k] = a2[j]\n",
    "        j=j+1\n",
    "        k=k+1\n",
    "\n",
    "arr = list(int(i) for i in input().split())\n",
    "sort(arr)\n",
    "print(arr)"
   ]
  },
  {
   "cell_type": "code",
   "execution_count": null,
   "id": "0a006477",
   "metadata": {},
   "outputs": [],
   "source": []
  }
 ],
 "metadata": {
  "kernelspec": {
   "display_name": "Python 3 (ipykernel)",
   "language": "python",
   "name": "python3"
  },
  "language_info": {
   "codemirror_mode": {
    "name": "ipython",
    "version": 3
   },
   "file_extension": ".py",
   "mimetype": "text/x-python",
   "name": "python",
   "nbconvert_exporter": "python",
   "pygments_lexer": "ipython3",
   "version": "3.11.1"
  }
 },
 "nbformat": 4,
 "nbformat_minor": 5
}
