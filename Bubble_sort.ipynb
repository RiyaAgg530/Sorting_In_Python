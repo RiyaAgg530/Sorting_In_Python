{
 "cells": [
  {
   "cell_type": "code",
   "execution_count": 1,
   "id": "45570e77",
   "metadata": {},
   "outputs": [
    {
     "data": {
      "text/plain": [
       "[2, 3, 4, 5, 6, 7, 8]"
      ]
     },
     "execution_count": 1,
     "metadata": {},
     "output_type": "execute_result"
    }
   ],
   "source": [
    "def bubble_sort(arr):\n",
    "    length = len(arr)\n",
    "    for i in range(length-1):\n",
    "        for j in range(length-i-1):\n",
    "            if arr[j] > arr[j+1]:\n",
    "                arr[j],arr[j+1] = arr[j+1],arr[j]\n",
    "    return arr\n",
    "\n",
    "bubble_sort([2,5,3,7,4,8,6])"
   ]
  }
 ],
 "metadata": {
  "kernelspec": {
   "display_name": "Python 3 (ipykernel)",
   "language": "python",
   "name": "python3"
  },
  "language_info": {
   "codemirror_mode": {
    "name": "ipython",
    "version": 3
   },
   "file_extension": ".py",
   "mimetype": "text/x-python",
   "name": "python",
   "nbconvert_exporter": "python",
   "pygments_lexer": "ipython3",
   "version": "3.11.1"
  }
 },
 "nbformat": 4,
 "nbformat_minor": 5
}
