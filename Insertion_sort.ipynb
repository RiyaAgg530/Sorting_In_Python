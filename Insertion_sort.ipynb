{
 "cells": [
  {
   "cell_type": "code",
   "execution_count": 11,
   "id": "456cc5ae",
   "metadata": {},
   "outputs": [
    {
     "name": "stdout",
     "output_type": "stream",
     "text": [
      "[2, 3, 4, 5, 6, 7, 8, 9]\n"
     ]
    }
   ],
   "source": [
    "def insertion_sort(arr):\n",
    "    length = len(arr)\n",
    "    for i in range(1,length):\n",
    "        j=i-1\n",
    "        temp = arr[i]\n",
    "        while (j>=0 and arr[j]>temp):\n",
    "            arr[j+1] = arr[j]\n",
    "            j=j-1\n",
    "        arr[j+1] = temp\n",
    "    return arr\n",
    "arr = [2,5,3,6,4,8,7,9]\n",
    "insertion_sort(arr)\n",
    "print(arr)"
   ]
  }
 ],
 "metadata": {
  "kernelspec": {
   "display_name": "Python 3 (ipykernel)",
   "language": "python",
   "name": "python3"
  },
  "language_info": {
   "codemirror_mode": {
    "name": "ipython",
    "version": 3
   },
   "file_extension": ".py",
   "mimetype": "text/x-python",
   "name": "python",
   "nbconvert_exporter": "python",
   "pygments_lexer": "ipython3",
   "version": "3.11.1"
  }
 },
 "nbformat": 4,
 "nbformat_minor": 5
}
