{
 "cells": [
  {
   "cell_type": "code",
   "execution_count": 5,
   "id": "48ed59ff",
   "metadata": {},
   "outputs": [
    {
     "data": {
      "text/plain": [
       "[1, 2, 2, 3, 4, 5, 6, 7, 8, 9, 10]"
      ]
     },
     "execution_count": 5,
     "metadata": {},
     "output_type": "execute_result"
    }
   ],
   "source": [
    "def mergeTwoArray(arr1,arr2):\n",
    "    i,j = 0,0\n",
    "    len1 = len(arr1)\n",
    "    len2 = len(arr2)\n",
    "    new_array = []\n",
    "    while (i<len1 and j<len2):\n",
    "        if arr1[i] < arr2[j]:\n",
    "            new_array.append(arr1[i])\n",
    "            i = i+1\n",
    "        else:\n",
    "            new_array.append(arr2[j])\n",
    "            j = j+1\n",
    "            \n",
    "    while (i<len1):\n",
    "        new_array.append(arr1[i])\n",
    "        i = i+1\n",
    "        \n",
    "    while (j<len2):\n",
    "        new_array.append(arr2[j])\n",
    "        j = j+1\n",
    "        \n",
    "    return new_array\n",
    "\n",
    "arr1 = [2,4,5,7,8]\n",
    "arr2 = [1,2,3,6,9,10]\n",
    "mergeTwoArray(arr1,arr2)"
   ]
  }
 ],
 "metadata": {
  "kernelspec": {
   "display_name": "Python 3 (ipykernel)",
   "language": "python",
   "name": "python3"
  },
  "language_info": {
   "codemirror_mode": {
    "name": "ipython",
    "version": 3
   },
   "file_extension": ".py",
   "mimetype": "text/x-python",
   "name": "python",
   "nbconvert_exporter": "python",
   "pygments_lexer": "ipython3",
   "version": "3.11.1"
  }
 },
 "nbformat": 4,
 "nbformat_minor": 5
}
